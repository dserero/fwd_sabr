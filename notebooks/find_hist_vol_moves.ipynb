{
 "cells": [
  {
   "cell_type": "code",
   "execution_count": 3,
   "id": "125dcd20",
   "metadata": {},
   "outputs": [],
   "source": [
    "import pandas as pd\n",
    "from period import Period"
   ]
  },
  {
   "cell_type": "code",
   "execution_count": 1,
   "id": "0b648335",
   "metadata": {},
   "outputs": [],
   "source": [
    "from datafetchingirta import DataFetcher"
   ]
  },
  {
   "cell_type": "code",
   "execution_count": 2,
   "id": "b79d8477",
   "metadata": {},
   "outputs": [
    {
     "name": "stdout",
     "output_type": "stream",
     "text": [
      "Getting Curves...\n",
      "Getting Vols\n",
      "Updating Pricing factory\n",
      "Creating Risk Factory\n",
      "Done\n"
     ]
    }
   ],
   "source": [
    "ezbh = DataFetcher()"
   ]
  },
  {
   "cell_type": "code",
   "execution_count": 8,
   "id": "fa5061e9",
   "metadata": {},
   "outputs": [
    {
     "data": {
      "application/vnd.microsoft.datawrangler.viewer.v0+json": {
       "columns": [
        {
         "name": "index",
         "rawType": "object",
         "type": "string"
        },
        {
         "name": "USD SOFR 6M 6Mx1Y",
         "rawType": "float64",
         "type": "float"
        }
       ],
       "ref": "7644df6c-416b-43e8-a135-4593e2bb3631",
       "rows": [
        [
         "mean",
         "-10.219307498600699"
        ],
        [
         "std_dev",
         "128.34638234080342"
        ],
        [
         "skewness",
         "-0.26926085353253215"
        ],
        [
         "kurtosis",
         "3.8593815344697475"
        ]
       ],
       "shape": {
        "columns": 1,
        "rows": 4
       }
      },
      "text/plain": [
       "mean        -10.219307\n",
       "std_dev     128.346382\n",
       "skewness     -0.269261\n",
       "kurtosis      3.859382\n",
       "Name: USD SOFR 6M 6Mx1Y, dtype: float64"
      ]
     },
     "execution_count": 8,
     "metadata": {},
     "output_type": "execute_result"
    }
   ],
   "source": [
    "ezbh.distribution_moments(Generator='USD SOFR', EffExp='6M', MtyTnr='6Mx1Y')"
   ]
  },
  {
   "cell_type": "code",
   "execution_count": null,
   "id": "9f4db919",
   "metadata": {},
   "outputs": [
    {
     "data": {
      "application/vnd.microsoft.datawrangler.viewer.v0+json": {
       "columns": [
        {
         "name": "index",
         "rawType": "object",
         "type": "string"
        },
        {
         "name": "USD SOFR 1Y 1Y",
         "rawType": "float64",
         "type": "float"
        }
       ],
       "ref": "5f3a1977-578e-4bae-b550-dfcc4acb27b2",
       "rows": [
        [
         "mean",
         "-8.306309657185539"
        ],
        [
         "std_dev",
         "113.30505745281701"
        ],
        [
         "skewness",
         "-0.3044747983573849"
        ],
        [
         "kurtosis",
         "3.7906371586300476"
        ]
       ],
       "shape": {
        "columns": 1,
        "rows": 4
       }
      },
      "text/plain": [
       "mean         -8.306310\n",
       "std_dev     113.305057\n",
       "skewness     -0.304475\n",
       "kurtosis      3.790637\n",
       "Name: USD SOFR 1Y 1Y, dtype: float64"
      ]
     },
     "execution_count": 9,
     "metadata": {},
     "output_type": "execute_result"
    }
   ],
   "source": [
    "ezbh.distribution_moments(Generator='USD SOFR', EffExp='1Y', MtyTnr='1Y')"
   ]
  },
  {
   "cell_type": "code",
   "execution_count": null,
   "id": "359359a9",
   "metadata": {},
   "outputs": [
    {
     "data": {
      "text/plain": [
       "0.031416559094496546"
      ]
     },
     "execution_count": 12,
     "metadata": {},
     "output_type": "execute_result"
    },
    {
     "ename": "",
     "evalue": "",
     "output_type": "error",
     "traceback": [
      "\u001b[1;31mThe Kernel crashed while executing code in the current cell or a previous cell. \n",
      "\u001b[1;31mPlease review the code in the cell(s) to identify a possible cause of the failure. \n",
      "\u001b[1;31mClick <a href='https://aka.ms/vscodeJupyterKernelCrash'>here</a> for more info. \n",
      "\u001b[1;31mView Jupyter <a href='command:jupyter.viewOutput'>log</a> for further details."
     ]
    }
   ],
   "source": [
    "ezbh.distribution_df(Generator='USD SOFR', EffExp='1Y', MtyTnr='1Y').set_index('strike_relative').loc[0, 'strike_float'] / 10000"
   ]
  },
  {
   "cell_type": "code",
   "execution_count": 4,
   "id": "bec9aa87",
   "metadata": {},
   "outputs": [],
   "source": [
    "generator = 'USD SOFR'\n",
    "exp = '2Y'\n",
    "period_fvol = '3Y'\n",
    "tail = '30Y'\n",
    "exp_long = str(Period.from_string(exp) + Period.from_string(period_fvol))\n"
   ]
  },
  {
   "cell_type": "code",
   "execution_count": null,
   "id": "6a9af66a",
   "metadata": {},
   "outputs": [],
   "source": [
    "rate = ezbh.bulk_download2(\n",
    "    generator=generator,\n",
    "    rates=[(period_fvol, tail)],\n",
    "    metric='Strike'\n",
    ")"
   ]
  }
 ],
 "metadata": {
  "kernelspec": {
   "display_name": "fwdsabr",
   "language": "python",
   "name": "python3"
  },
  "language_info": {
   "codemirror_mode": {
    "name": "ipython",
    "version": 3
   },
   "file_extension": ".py",
   "mimetype": "text/x-python",
   "name": "python",
   "nbconvert_exporter": "python",
   "pygments_lexer": "ipython3",
   "version": "3.11.10"
  }
 },
 "nbformat": 4,
 "nbformat_minor": 5
}
